{
 "cells": [
  {
   "cell_type": "markdown",
   "metadata": {},
   "source": [
    "# WeatherPy\n",
    "----\n",
    "\n",
    "#### Note\n",
    "* Instructions have been included for each segment. You do not have to follow them exactly, but they are included to help you think through the steps."
   ]
  },
  {
   "cell_type": "code",
   "execution_count": null,
   "metadata": {},
   "outputs": [],
   "source": [
    "pip install citipy"
   ]
  },
  {
   "cell_type": "code",
   "execution_count": 1,
   "metadata": {
    "scrolled": true
   },
   "outputs": [],
   "source": [
    "# Dependencies and Setup\n",
    "import matplotlib.pyplot as plt\n",
    "import pandas as pd\n",
    "import numpy as np\n",
    "import requests\n",
    "import time\n",
    "from scipy.stats import linregress\n",
    "import datetime\n",
    "now = datetime.datetime.now()\n",
    "\n",
    "# Import API key\n",
    "from api_keys import weather_api_key\n",
    "\n",
    "# Incorporated citipy to determine city based on latitude and longitude\n",
    "from citipy import citipy\n",
    "\n",
    "# Output File (CSV)\n",
    "output_data_file = \"output_data/cities.csv\"\n",
    "\n",
    "# Range of latitudes and longitudes\n",
    "lat_range = (-90, 90)\n",
    "lng_range = (-180, 180)"
   ]
  },
  {
   "cell_type": "markdown",
   "metadata": {},
   "source": [
    "## Generate Cities List"
   ]
  },
  {
   "cell_type": "code",
   "execution_count": 2,
   "metadata": {},
   "outputs": [
    {
     "data": {
      "text/plain": [
       "610"
      ]
     },
     "execution_count": 2,
     "metadata": {},
     "output_type": "execute_result"
    }
   ],
   "source": [
    "# List for holding lat_lngs and cities\n",
    "lat_lngs = []\n",
    "cities = []\n",
    "\n",
    "# Create a set of random lat and lng combinations\n",
    "lats = np.random.uniform(lat_range[0], lat_range[1], size=1500)\n",
    "lngs = np.random.uniform(lng_range[0], lng_range[1], size=1500)\n",
    "lat_lngs = zip(lats, lngs)\n",
    "\n",
    "# Identify nearest city for each lat, lng combination\n",
    "for lat_lng in lat_lngs:\n",
    "    city = citipy.nearest_city(lat_lng[0], lat_lng[1]).city_name\n",
    "    \n",
    "    # If the city is unique, then add it to a our cities list\n",
    "    if city not in cities:\n",
    "        cities.append(city)\n",
    "\n",
    "# Print the city count to confirm sufficient count\n",
    "len(cities)"
   ]
  },
  {
   "cell_type": "markdown",
   "metadata": {},
   "source": [
    "### Perform API Calls\n",
    "* Perform a weather check on each city using a series of successive API calls.\n",
    "* Include a print log of each city as it'sbeing processed (with the city number and city name).\n"
   ]
  },
  {
   "cell_type": "code",
   "execution_count": null,
   "metadata": {},
   "outputs": [],
   "source": [
    "x=1\n",
    "count=1\n",
    "city_df=[]\n",
    "lat=[] \n",
    "long=[]\n",
    "Max_Temp=[]\n",
    "Humidity=[]\n",
    "Cloudiness=[]\n",
    "Wind_Speed=[]\n",
    "Country=[]\n",
    "Date=[]\n",
    "\n",
    "url= f\"http://api.openweathermap.org/data/2.5/weather?units=Imperial&appid={weather_api_key}&q=\"\n",
    "city_responses= [ ]\n",
    "\n",
    "print(\"~~~~~~~~~~~~~~~~~~~~~~~~~~~~\")\n",
    "print(\"Beginning Data Retrieval\")\n",
    "print(\"~~~~~~~~~~~~~~~~~~~~~~~~~~~~\")\n",
    "\n",
    "for city in cities:\n",
    "    if x >= 51: \n",
    "        count+= 1\n",
    "        x=1\n",
    "    try:\n",
    "        city_data=requests.get(url + city).json()\n",
    "        city_df.append(city_data['name'])\n",
    "        lat.append(city_data['coord']['lat'])\n",
    "        long.append(city_data['coord']['lon'])\n",
    "        Max_Temp.append(city_data['main']['temp_max'])\n",
    "        Humidity.append(city_data['main'][\"humidity\"])\n",
    "        Cloudiness.append(city_data[\"clouds\"]['all'])\n",
    "        Wind_Speed.append(city_data[\"wind\"]['speed'])\n",
    "        Country.append(city_data['sys']['country'])\n",
    "        Date.append(city_data['dt'])\n",
    "        city_responses.append(city_data)\n",
    "        print(f\"Processing Record {x} of set {count}|{city}\")\n",
    "        x+=1\n",
    "    except: \n",
    "        print(\"City not found. Skipping... \")\n",
    "        \n",
    "print(\"~~~~~~~~~~~~~~~~~~~~~~~~~~~~\")\n",
    "print(\"Data Retrieval Complete \")\n",
    "print(\"~~~~~~~~~~~~~~~~~~~~~~~~~~~~\")\n",
    "\n",
    "        "
   ]
  },
  {
   "cell_type": "markdown",
   "metadata": {},
   "source": [
    "### Convert Raw Data to DataFrame\n",
    "* Export the city data into a .csv.\n",
    "* Display the DataFrame"
   ]
  },
  {
   "cell_type": "code",
   "execution_count": null,
   "metadata": {},
   "outputs": [],
   "source": [
    "#output_data_file = \".../WeatherPy/cities.csv\"\n",
    "output_data_file = \"output_data/cities.csv\"\n"
   ]
  },
  {
   "cell_type": "code",
   "execution_count": null,
   "metadata": {},
   "outputs": [],
   "source": [
    "city_weather=pd.DataFrame({\n",
    "    \"City\":city_df,\n",
    "    \"Latitude\":lat,\n",
    "    \"Longitute\": long,\n",
    "    \"Max Temperature\": Max_Temp,\n",
    "    \"Humidity\": Humidity,\n",
    "    \"Cloudiness\": Cloudiness,\n",
    "    \"Wind Speed\": Wind_Speed,\n",
    "    \"Country\": Country,\n",
    "    \"Date\":Date,\n",
    "})\n",
    "\n",
    "# Option 2\n",
    "#   quantile(d$Point, 0.95)\n",
    "#   95% \n",
    "#   5800\n",
    "\n",
    "#   df %>% filter(Point < quantile(df$Point, 0.95))\n",
    "#   Group Point\n",
    "#   1     B  5000\n",
    "#   2     C  1000\n",
    "#   3     D   100\n",
    "#   4     F    70\n",
    "\n",
    "# ----------------------------------------\n",
    "# Option 1\n",
    "# quantile(d$Point, 0.95)\n",
    "# 95% \n",
    "# 5800 \n",
    "\n",
    "# d[d$Point < quantile(d$Point, 0.95), ]\n",
    "# Group Point\n",
    "# 2     B  5000\n",
    "# 3     C  1000\n",
    "# 4     D   100\n",
    "# 5     F    70\n",
    "\n",
    "# -----------------------------------------\n",
    "city_weather.head()\n",
    "                 "
   ]
  },
  {
   "cell_type": "markdown",
   "metadata": {},
   "source": [
    "##### Inspect the data and remove the cities where the humidity > 100%.\n",
    "----\n",
    "Skip this step if there are no cities that have humidity > 100%. "
   ]
  },
  {
   "cell_type": "code",
   "execution_count": null,
   "metadata": {},
   "outputs": [],
   "source": [
    "#city_weather.count()"
   ]
  },
  {
   "cell_type": "code",
   "execution_count": null,
   "metadata": {},
   "outputs": [],
   "source": [
    "#city_weather=city_weather[city_weather[\"Humidity\"]>=100]\n",
    "#city_weather.count()"
   ]
  },
  {
   "cell_type": "code",
   "execution_count": null,
   "metadata": {},
   "outputs": [],
   "source": [
    "#  Get the indices of cities that have humidity over 100%.\n",
    "\n",
    "#city_weather[\"Humidity\"].max()\n",
    "\n",
    "city_weather=city_weather[city_weather[\"Humidity\"] <= 100]\n",
    "city_weather.describe()"
   ]
  },
  {
   "cell_type": "code",
   "execution_count": null,
   "metadata": {},
   "outputs": [],
   "source": [
    "# Make a new DataFrame equal to the city data to drop all humidity outliers by index. ? \n",
    "# Passing \"inplace=False\" will make a copy of the city_data DataFrame, which we call \"clean_city_data\".\n",
    "\n",
    "city_weather=city_weather[city_weather[\"Humidity\"] <= 101]\n",
    "\n",
    "city_weather=pd.DataFrame({\n",
    "    \"City\":city_df,\n",
    "    \"Latitude\":lat,\n",
    "    \"Longitute\": long,\n",
    "    \"Max Temperature\": Max_Temp,\n",
    "    \"Humidity\": Humidity,\n",
    "    \"Cloudiness\": Cloudiness,\n",
    "    \"Wind Speed\": Wind_Speed,\n",
    "    \"County\": Country,\n",
    "    \"Date\":Date,\n",
    "})\n",
    "\n",
    "\n",
    "\n",
    "city_weather.head()\n",
    "\n"
   ]
  },
  {
   "cell_type": "code",
   "execution_count": null,
   "metadata": {},
   "outputs": [],
   "source": [
    "# Extract relevant fields from the data frame\n",
    "\n",
    "\n",
    "# Export the City_Data into a csv\n",
    "city_weather.to_csv(\"Clean_City_Data.csv\")\n",
    "\n",
    "# city_weather.to_csv(WeatherPy_file, index_label = \"clean_city_data\")\n",
    "#output_data_file = \"output_data/cities.csv\"\n",
    "#city_weather.to_csv(output_data_file, index_label = \"clean_city_data\")"
   ]
  },
  {
   "cell_type": "markdown",
   "metadata": {},
   "source": [
    "## Plotting the Data\n",
    "* Use proper labeling of the plots using plot titles (including date of analysis) and axes labels.\n",
    "* Save the plotted figures as .pngs."
   ]
  },
  {
   "cell_type": "markdown",
   "metadata": {},
   "source": [
    "## Latitude vs. Temperature Plot"
   ]
  },
  {
   "cell_type": "code",
   "execution_count": null,
   "metadata": {
    "scrolled": true
   },
   "outputs": [],
   "source": [
    "import datetime\n",
    "now = datetime.datetime.now()\n",
    "\n",
    "latitude = city_weather[\"Latitude\"]\n",
    "Max_temp = city_weather[\"Max Temperature\"]\n",
    "\n",
    "plt.scatter(latitude, Max_temp, marker=\"o\", facecolors = \"steelblue\", edgecolor = 'black')\n",
    "\n",
    "plt.grid()\n",
    "\n",
    "#plt.title(f \"City Latitude vs Max Temperature {datetime.now().strftime('%m-%d-%Y')}\")\n",
    "#print (\"Current date and time : \")\n",
    "#print (now.strftime(\"%Y-%m-%d %H:%M:%S\"))\n",
    "\n",
    "plt.title (\"City Latitude vs Max Temperature 07/19/2020\")\n",
    "plt.xlabel (\"City Latitude\")\n",
    "plt.ylabel (\"Max Temperature\")\n",
    "plt.savefig (\"Temp_vs_Lat.png\")\n",
    "plt.show()\n",
    "\n"
   ]
  },
  {
   "cell_type": "markdown",
   "metadata": {},
   "source": [
    "## Latitude vs. Humidity Plot"
   ]
  },
  {
   "cell_type": "code",
   "execution_count": null,
   "metadata": {},
   "outputs": [],
   "source": [
    "latitude = city_weather[\"Latitude\"]\n",
    "Humidity = city_weather[\"Humidity\"]\n",
    "\n",
    "plt.scatter(latitude, Humidity, marker=\"o\", facecolors = \"steelblue\", edgecolor = 'black')\n",
    "\n",
    "plt.grid()\n",
    "plt.title (\"City Latitude vs Humidity 07/19/2020\")\n",
    "plt.xlabel (\"City Latitude\")\n",
    "plt.ylabel (\"Humidity\")\n",
    "plt.savefig (\"Humidity_vs_Lat.png\")\n",
    "plt.show()\n"
   ]
  },
  {
   "cell_type": "markdown",
   "metadata": {},
   "source": [
    "## Latitude vs. Cloudiness Plot"
   ]
  },
  {
   "cell_type": "code",
   "execution_count": null,
   "metadata": {},
   "outputs": [],
   "source": [
    "latitude = city_weather[\"Latitude\"]\n",
    "Cloudiness = city_weather[\"Cloudiness\"]\n",
    "\n",
    "plt.scatter(latitude, Cloudiness, marker=\"o\", facecolors = \"steelblue\", edgecolor = 'black')\n",
    "\n",
    "plt.grid()\n",
    "plt.title (\"City Latitude vs Cloudiness 07/19/2020\")\n",
    "plt.xlabel (\"City Latitude\")\n",
    "plt.ylabel (\"Cloudiness\")\n",
    "plt.savefig (\"Cloudiness_vs_Lat.png\")\n",
    "plt.show()"
   ]
  },
  {
   "cell_type": "markdown",
   "metadata": {},
   "source": [
    "## Latitude vs. Wind Speed Plot"
   ]
  },
  {
   "cell_type": "code",
   "execution_count": null,
   "metadata": {},
   "outputs": [],
   "source": [
    "latitude = city_weather[\"Latitude\"]\n",
    "Wind_Speed = city_weather[\"Wind Speed\"]\n",
    "\n",
    "plt.scatter(latitude, Wind_Speed, marker=\"o\", facecolors = \"steelblue\", edgecolor = 'black')\n",
    "\n",
    "plt.grid()\n",
    "plt.title (\"City Latitude vs Wind Speed 07/19/2020\")\n",
    "plt.xlabel (\"City Latitude\")\n",
    "plt.ylabel (\"Wind Speed\")\n",
    "plt.savefig (\"Wind Speed_vs_Lat.png\")\n",
    "plt.show()"
   ]
  },
  {
   "cell_type": "markdown",
   "metadata": {},
   "source": [
    "## Linear Regression"
   ]
  },
  {
   "cell_type": "code",
   "execution_count": null,
   "metadata": {},
   "outputs": [],
   "source": [
    "# OPTIONAL: Create a function to create Linear Regression plots (this was a nightmare)"
   ]
  },
  {
   "cell_type": "code",
   "execution_count": null,
   "metadata": {},
   "outputs": [],
   "source": [
    "# Create Northern and Southern Hemisphere DataFrames\n",
    "#plt.plot(x, m*x + b)\n",
    "Northern_df = city_weather[city_weather[\"Latitude\"]>0]\n",
    "Southern_df = city_weather[city_weather[\"Latitude\"]<0]"
   ]
  },
  {
   "cell_type": "code",
   "execution_count": null,
   "metadata": {},
   "outputs": [],
   "source": [
    "def plot_linear_regression(x,y,title_coordinates, text_coordinates):\n",
    "    \n",
    "    (slope,intercept,rvalue,pvalue,stderr) = linregress (x,y)\n",
    "    regress_values = x*slope + intercept\n",
    "    \n",
    "    #line_eq= f\"y{round(slope,1)}x + {round(intercept,2)}\"\n",
    "    line_eq = \"y = \" + str(round(slope,2)) + \"x + \" + str(round(intercept,2))\n",
    "    \n",
    "    plt.scatter(x, y, marker=\"o\", facecolors=\"steelblue\", edgecolor = 'black')\n",
    "    plt.plot (x,regress_values, color = \"blueviolet\")\n",
    "    plt.annotate (line_eq, (5,10), color= \"blueviolet\" ,fontsize = 15)\n",
    "    plt.xlabel(\"Latitude\")\n",
    "    plt.ylabel (\"Temperature\")\n",
    "    plt.title (\"Northern Hemisphere - Max Temp vs. Latitude Linear Regression\")\n",
    "    plt.grid()\n",
    "    #plt.ylim(25,120)\n",
    "    #plt.xlim(-5,82.5)\n",
    "    \n",
    "    #plt.show()\n",
    "#Added a grid because it adds a little more razzle dazzle and it keeps the same format from the previous charts\n",
    "#Basically its there for continueity (spl?) \n",
    "\n",
    "    \n",
    "    print(f\"The r-squared IS: {rvalue**2}\")\n",
    "              "
   ]
  },
  {
   "cell_type": "markdown",
   "metadata": {},
   "source": [
    "####  Northern Hemisphere - Max Temp vs. Latitude Linear Regression"
   ]
  },
  {
   "cell_type": "code",
   "execution_count": null,
   "metadata": {},
   "outputs": [],
   "source": [
    "plot_linear_regression(Northern_df[\"Latitude\"], Northern_df[\"Max Temperature\"], \"Max Temperature\",(10,30))\n",
    "plt.ylim(25,120)\n",
    "plt.xlim(-5,82.5)"
   ]
  },
  {
   "cell_type": "markdown",
   "metadata": {},
   "source": [
    "####  Southern Hemisphere - Max Temp vs. Latitude Linear Regression"
   ]
  },
  {
   "cell_type": "code",
   "execution_count": null,
   "metadata": {},
   "outputs": [],
   "source": [
    "plot_linear_regression(Southern_df[\"Latitude\"], Southern_df[\"Max Temperature\"], \"Max Temperature\", (10,30) )"
   ]
  },
  {
   "cell_type": "markdown",
   "metadata": {},
   "source": [
    "####  Northern Hemisphere - Humidity (%) vs. Latitude Linear Regression"
   ]
  },
  {
   "cell_type": "code",
   "execution_count": null,
   "metadata": {},
   "outputs": [],
   "source": [
    "plot_linear_regression(Northern_df[\"Latitude\"], Northern_df[\"Humidity\"], \"Humidity\", (10,30) )"
   ]
  },
  {
   "cell_type": "markdown",
   "metadata": {},
   "source": [
    "####  Southern Hemisphere - Humidity (%) vs. Latitude Linear Regression"
   ]
  },
  {
   "cell_type": "code",
   "execution_count": null,
   "metadata": {},
   "outputs": [],
   "source": [
    "plot_linear_regression(Southern_df[\"Latitude\"], Southern_df[\"Humidity\"], \"Humidity\", (10,30) )"
   ]
  },
  {
   "cell_type": "markdown",
   "metadata": {},
   "source": [
    "####  Northern Hemisphere - Cloudiness (%) vs. Latitude Linear Regression"
   ]
  },
  {
   "cell_type": "code",
   "execution_count": null,
   "metadata": {},
   "outputs": [],
   "source": [
    "plot_linear_regression(Northern_df[\"Latitude\"], Northern_df[\"Cloudiness\"], \"Cloudiness\", (10,30) )"
   ]
  },
  {
   "cell_type": "markdown",
   "metadata": {},
   "source": [
    "####  Southern Hemisphere - Cloudiness (%) vs. Latitude Linear Regression"
   ]
  },
  {
   "cell_type": "code",
   "execution_count": null,
   "metadata": {},
   "outputs": [],
   "source": [
    "plot_linear_regression(Southern_df[\"Latitude\"], Southern_df[\"Cloudiness\"], \"Cloudiness\", (10,30) )"
   ]
  },
  {
   "cell_type": "markdown",
   "metadata": {},
   "source": [
    "####  Northern Hemisphere - Wind Speed (mph) vs. Latitude Linear Regression"
   ]
  },
  {
   "cell_type": "code",
   "execution_count": null,
   "metadata": {},
   "outputs": [],
   "source": [
    "plot_linear_regression(Northern_df[\"Latitude\"], Northern_df[\"Wind Speed\"], \"Wind Speed\", (10,30) )"
   ]
  },
  {
   "cell_type": "markdown",
   "metadata": {},
   "source": [
    "####  Southern Hemisphere - Wind Speed (mph) vs. Latitude Linear Regression"
   ]
  },
  {
   "cell_type": "code",
   "execution_count": null,
   "metadata": {},
   "outputs": [],
   "source": [
    "plot_linear_regression(Southern_df[\"Latitude\"], Southern_df[\"Wind Speed\"], \"Wind Speed\", (10,30) )"
   ]
  },
  {
   "cell_type": "code",
   "execution_count": null,
   "metadata": {},
   "outputs": [],
   "source": [
    "#If anyone reads this can you explain why the linear regression equation only shows up on some of the graphs\n",
    "#and not any of the others?"
   ]
  },
  {
   "cell_type": "code",
   "execution_count": null,
   "metadata": {},
   "outputs": [],
   "source": []
  },
  {
   "cell_type": "code",
   "execution_count": null,
   "metadata": {},
   "outputs": [],
   "source": []
  },
  {
   "cell_type": "code",
   "execution_count": null,
   "metadata": {},
   "outputs": [],
   "source": []
  },
  {
   "cell_type": "code",
   "execution_count": null,
   "metadata": {},
   "outputs": [],
   "source": []
  },
  {
   "cell_type": "code",
   "execution_count": null,
   "metadata": {},
   "outputs": [],
   "source": []
  }
 ],
 "metadata": {
  "anaconda-cloud": {},
  "kernel_info": {
   "name": "python3"
  },
  "kernelspec": {
   "display_name": "Python 3",
   "language": "python",
   "name": "python3"
  },
  "language_info": {
   "codemirror_mode": {
    "name": "ipython",
    "version": 3
   },
   "file_extension": ".py",
   "mimetype": "text/x-python",
   "name": "python",
   "nbconvert_exporter": "python",
   "pygments_lexer": "ipython3",
   "version": "3.7.6"
  },
  "latex_envs": {
   "LaTeX_envs_menu_present": true,
   "autoclose": false,
   "autocomplete": true,
   "bibliofile": "biblio.bib",
   "cite_by": "apalike",
   "current_citInitial": 1,
   "eqLabelWithNumbers": true,
   "eqNumInitial": 1,
   "hotkeys": {
    "equation": "Ctrl-E",
    "itemize": "Ctrl-I"
   },
   "labels_anchors": false,
   "latex_user_defs": false,
   "report_style_numbering": false,
   "user_envs_cfg": false
  },
  "nteract": {
   "version": "0.12.3"
  }
 },
 "nbformat": 4,
 "nbformat_minor": 4
}
